{
 "cells": [
  {
   "cell_type": "code",
   "execution_count": null,
   "id": "47e6530a",
   "metadata": {},
   "outputs": [],
   "source": [
    "from yawning_titan.yawning_titan_run import YawningTitanRun"
   ]
  },
  {
   "cell_type": "markdown",
   "id": "4b54ee1e",
   "metadata": {},
   "source": [
    "## View the `YawningTitanRun` class documentation\n",
    "This allows you to see what can be configured in the constructor"
   ]
  },
  {
   "cell_type": "code",
   "execution_count": null,
   "id": "09320569",
   "metadata": {},
   "outputs": [],
   "source": [
    "help(YawningTitanRun)"
   ]
  },
  {
   "cell_type": "markdown",
   "id": "dd186133",
   "metadata": {},
   "source": [
    "## Initialise the instance of `YawningTitanRun`\n",
    "Here we have set evaluation frequency to 100, the number of timesteps 2000, and the number of evaulation episodes to 10.\n",
    "\n",
    "We have also configured it so that metrics are printed and additional timestep data is printed.\n",
    "\n",
    "Finally, we have set auto to False so we can manually trigger the steps."
   ]
  },
  {
   "cell_type": "code",
   "execution_count": null,
   "id": "048b6a04",
   "metadata": {},
   "outputs": [],
   "source": [
    "yt_run = YawningTitanRun(\n",
    "    eval_freq=100, \n",
    "    total_timesteps=2000,\n",
    "    n_eval_episodes=10,\n",
    "    print_metrics=True,\n",
    "    collect_additional_per_ts_data=True,\n",
    "    auto=False\n",
    ")"
   ]
  },
  {
   "cell_type": "markdown",
   "id": "5bbaa3ab",
   "metadata": {},
   "source": [
    "## Setup the instance of `YawningTitanRun`\n",
    "Here we call `.setup()` which builds the environment."
   ]
  },
  {
   "cell_type": "code",
   "execution_count": null,
   "id": "0f2da1cc",
   "metadata": {},
   "outputs": [],
   "source": [
    "yt_run.setup()"
   ]
  },
  {
   "cell_type": "markdown",
   "id": "4dd5f277",
   "metadata": {},
   "source": [
    "## Train the agent\n",
    "Here we call `.train()` which begins training the agent."
   ]
  },
  {
   "cell_type": "code",
   "execution_count": null,
   "id": "d0b1ee77",
   "metadata": {},
   "outputs": [],
   "source": [
    "yt_run.train()"
   ]
  },
  {
   "cell_type": "markdown",
   "id": "7ea7c044",
   "metadata": {},
   "source": [
    "## Evaluate the agent\n",
    "Here we call `.evaluate()` which performsa the agent evaluation."
   ]
  },
  {
   "cell_type": "code",
   "execution_count": null,
   "id": "5abbd915",
   "metadata": {},
   "outputs": [],
   "source": [
    "yt_run.evaluate()"
   ]
  }
 ],
 "metadata": {
  "kernelspec": {
   "display_name": "Python 3 (ipykernel)",
   "language": "python",
   "name": "python3"
  },
  "language_info": {
   "codemirror_mode": {
    "name": "ipython",
    "version": 3
   },
   "file_extension": ".py",
   "mimetype": "text/x-python",
   "name": "python",
   "nbconvert_exporter": "python",
   "pygments_lexer": "ipython3",
   "version": "3.10.9"
  }
 },
 "nbformat": 4,
 "nbformat_minor": 5
}
